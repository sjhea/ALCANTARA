{
 "cells": [
  {
   "cell_type": "markdown",
   "id": "c3a8ea6e",
   "metadata": {},
   "source": [
    "# If-else Statement <hr style=\"border:2.5px solid #126782\"></hr>"
   ]
  },
  {
   "cell_type": "markdown",
   "id": "a4982d26",
   "metadata": {},
   "source": [
    "Data Analyst: Jhea Faith S. Alcantara <br> Department: Electrical Engineering"
   ]
  },
  {
   "cell_type": "code",
   "execution_count": 4,
   "id": "986ab1cf",
   "metadata": {},
   "outputs": [
    {
     "name": "stdout",
     "output_type": "stream",
     "text": [
      "pasar ko\n"
     ]
    }
   ],
   "source": [
    "# passing score is 5.0\n",
    "grade = 5.1\n",
    "if grade >= 5.0:\n",
    "    print(\"pasar ko\")"
   ]
  },
  {
   "cell_type": "code",
   "execution_count": 6,
   "id": "5efa83e0",
   "metadata": {},
   "outputs": [
    {
     "name": "stdout",
     "output_type": "stream",
     "text": [
      "pasar ko\n"
     ]
    }
   ],
   "source": [
    "# two if statement are evaluated\n",
    "grade = 7.5\n",
    "\n",
    "# evaluate grade\n",
    "if grade >= 5.0:\n",
    "    print(\"pasar ko\")\n",
    "\n",
    "if grade < 5.0:\n",
    "        print(\"FAILED!\")\n"
   ]
  },
  {
   "cell_type": "markdown",
   "id": "68ea090d",
   "metadata": {},
   "source": [
    "# If-Else Statement <hr style=\"border:2.5px solid #126782\"></hr>"
   ]
  },
  {
   "cell_type": "code",
   "execution_count": 5,
   "id": "7cd748bb",
   "metadata": {},
   "outputs": [
    {
     "name": "stdout",
     "output_type": "stream",
     "text": [
      "FAILED!\n"
     ]
    }
   ],
   "source": [
    "# if grade >= 5.0 is True, else will not be evaluated\n",
    "grade = 4.0\n",
    "\n",
    "# evaluate grade\n",
    "if grade >= 5.0:\n",
    "    print(\"pasar ko\")\n",
    "\n",
    "else: \n",
    "    print(\"FAILED!\")"
   ]
  },
  {
   "cell_type": "markdown",
   "id": "bfa81178",
   "metadata": {},
   "source": [
    "# if-elif-else statement <hr style=\"border:2.5px solid #126782\"></hr>"
   ]
  },
  {
   "cell_type": "code",
   "execution_count": 15,
   "id": "9250cd7a",
   "metadata": {},
   "outputs": [
    {
     "name": "stdout",
     "output_type": "stream",
     "text": [
      "FAILED!\n"
     ]
    }
   ],
   "source": [
    "# if grade >= 5.0 is True, 'others' will not be evaluated\n",
    "grade = 2.9\n",
    "\n",
    "# evaluate grade\n",
    "if grade >= 5.0:\n",
    "    print(\"pasar ko\")\n",
    "elif grade < 5.0: # < 5.0 evaluated first\n",
    "    print(\"FAILED!\")\n",
    "elif grade < 3.0:\n",
    "    print(\"DISMISSED!\")\n",
    "else:\n",
    "    print(\"INVALID!\")"
   ]
  },
  {
   "cell_type": "code",
   "execution_count": 16,
   "id": "9a9f56ad",
   "metadata": {},
   "outputs": [
    {
     "name": "stdout",
     "output_type": "stream",
     "text": [
      "DISMISSED!\n"
     ]
    }
   ],
   "source": [
    "# if grade >= 5.0 is True, 'others' will not be evaluated\n",
    "grade = 2.9\n",
    "\n",
    "# evaluate grade\n",
    "if grade >= 5.0:\n",
    "    print(\"pasar ko\")\n",
    "elif grade < 3.0: # < 3.0 evaluated first\n",
    "    print(\"DISMISSED!\")\n",
    "elif grade < 5.0:\n",
    "    print(\"FAILED!\")\n",
    "else:\n",
    "    print(\"INVALID!\")"
   ]
  }
 ],
 "metadata": {
  "kernelspec": {
   "display_name": "Python 3",
   "language": "python",
   "name": "python3"
  },
  "language_info": {
   "codemirror_mode": {
    "name": "ipython",
    "version": 3
   },
   "file_extension": ".py",
   "mimetype": "text/x-python",
   "name": "python",
   "nbconvert_exporter": "python",
   "pygments_lexer": "ipython3",
   "version": "3.13.2"
  }
 },
 "nbformat": 4,
 "nbformat_minor": 5
}
