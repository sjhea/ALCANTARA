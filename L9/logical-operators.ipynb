{
 "cells": [
  {
   "cell_type": "markdown",
   "id": "55ba5e48",
   "metadata": {},
   "source": [
    "# Logical Operators <hr style=\"border:2.5px solid #126782\"></hr>"
   ]
  },
  {
   "cell_type": "markdown",
   "id": "2909826d",
   "metadata": {},
   "source": [
    "Data Analyst: Jhea Faith S. Alcantara <br> Department: Electrical Engineering"
   ]
  },
  {
   "cell_type": "markdown",
   "id": "3cde3457",
   "metadata": {},
   "source": [
    "# Logical AND"
   ]
  },
  {
   "cell_type": "code",
   "execution_count": 1,
   "id": "a0cc4774",
   "metadata": {},
   "outputs": [
    {
     "name": "stdout",
     "output_type": "stream",
     "text": [
      "both are true\n"
     ]
    }
   ],
   "source": [
    "a = True\n",
    "b = True\n",
    "\n",
    "if a and b:\n",
    "    print(\"both are true\")\n",
    "else:\n",
    "    print(\"at least one is false\")"
   ]
  },
  {
   "cell_type": "code",
   "execution_count": 3,
   "id": "4b244f55",
   "metadata": {},
   "outputs": [
    {
     "name": "stdout",
     "output_type": "stream",
     "text": [
      "12 is within the range of 11 to 20.\n"
     ]
    }
   ],
   "source": [
    "a = 12\n",
    "\n",
    "if (a > 0) and (a <= 10):\n",
    "     print(str(a) + \" is within the range of 1 to 10. \")\n",
    "elif (a > 10) and (a <= 20):\n",
    "        print(str(a) + \" is within the range of 11 to 20.\")\n",
    "elif (a > 20) and (a <=30):\n",
    "    print(str(a) + \" is within the range of 21 to 30.\")\n",
    "else:\n",
    "    print(\"out of range.\")"
   ]
  },
  {
   "cell_type": "markdown",
   "id": "c2a82406",
   "metadata": {},
   "source": [
    "# Logical OR"
   ]
  },
  {
   "cell_type": "code",
   "execution_count": 4,
   "id": "20f03c37",
   "metadata": {},
   "outputs": [
    {
     "name": "stdout",
     "output_type": "stream",
     "text": [
      "at least one is true\n"
     ]
    }
   ],
   "source": [
    "a = True\n",
    "b = False\n",
    "if a or b:\n",
    "    print(\"at least one is true\")\n",
    "else:\n",
    "    print(\"both are false\")"
   ]
  },
  {
   "cell_type": "code",
   "execution_count": 5,
   "id": "2fa4dc2e",
   "metadata": {},
   "outputs": [
    {
     "name": "stdout",
     "output_type": "stream",
     "text": [
      "It's a great day to go outside!\n"
     ]
    }
   ],
   "source": [
    "weather = \"sunny\"\n",
    "\n",
    "if (weather == \"rainy\") or (weather == \"stormy\"):\n",
    "    print(\"Bring an umbrella or stay indoors!\")\n",
    "elif (weather == \"sunny\") or (weather == \"clear\"):\n",
    "    print(\"It's a great day to go outside!\")\n",
    "else:\n",
    "    print(\"The weather is unpredictable today.\")"
   ]
  },
  {
   "cell_type": "markdown",
   "id": "a602541a",
   "metadata": {},
   "source": [
    "# Logical NOT"
   ]
  },
  {
   "cell_type": "code",
   "execution_count": 6,
   "id": "d6c06ce2",
   "metadata": {},
   "outputs": [
    {
     "data": {
      "text/plain": [
       "False"
      ]
     },
     "execution_count": 6,
     "metadata": {},
     "output_type": "execute_result"
    }
   ],
   "source": [
    "a = True\n",
    "\n",
    "not a"
   ]
  },
  {
   "cell_type": "code",
   "execution_count": 13,
   "id": "d6146a96",
   "metadata": {},
   "outputs": [
    {
     "name": "stdout",
     "output_type": "stream",
     "text": [
      "8 is odd\n"
     ]
    }
   ],
   "source": [
    "a = 8\n",
    "\n",
    "if not(a % 2 == 0):\n",
    "    print(str(a) + \" is even\")\n",
    "else:\n",
    "    print(str(a) + \" is odd\")"
   ]
  }
 ],
 "metadata": {
  "kernelspec": {
   "display_name": "Python 3",
   "language": "python",
   "name": "python3"
  },
  "language_info": {
   "codemirror_mode": {
    "name": "ipython",
    "version": 3
   },
   "file_extension": ".py",
   "mimetype": "text/x-python",
   "name": "python",
   "nbconvert_exporter": "python",
   "pygments_lexer": "ipython3",
   "version": "3.13.2"
  }
 },
 "nbformat": 4,
 "nbformat_minor": 5
}
